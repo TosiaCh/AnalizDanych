{
 "cells": [
  {
   "cell_type": "markdown",
   "metadata": {
    "id": "1f0k45DnYe4F"
   },
   "source": [
    "### Today we are going to perform the simple classification of the amazon reviews' sentiment.\n",
    "\n",
    "### Please, download the dataset amazon_baby.csv."
   ]
  },
  {
   "cell_type": "code",
   "execution_count": 218,
   "metadata": {
    "colab": {
     "base_uri": "https://localhost:8080/",
     "height": 293
    },
    "id": "1qAKdBdvYe4L",
    "outputId": "27e997a5-669c-44b9-8a5e-14fb6a20ac11"
   },
   "outputs": [
    {
     "data": {
      "text/html": [
       "<div>\n",
       "<style scoped>\n",
       "    .dataframe tbody tr th:only-of-type {\n",
       "        vertical-align: middle;\n",
       "    }\n",
       "\n",
       "    .dataframe tbody tr th {\n",
       "        vertical-align: top;\n",
       "    }\n",
       "\n",
       "    .dataframe thead th {\n",
       "        text-align: right;\n",
       "    }\n",
       "</style>\n",
       "<table border=\"1\" class=\"dataframe\">\n",
       "  <thead>\n",
       "    <tr style=\"text-align: right;\">\n",
       "      <th></th>\n",
       "      <th>name</th>\n",
       "      <th>review</th>\n",
       "      <th>rating</th>\n",
       "    </tr>\n",
       "  </thead>\n",
       "  <tbody>\n",
       "    <tr>\n",
       "      <th>0</th>\n",
       "      <td>Planetwise Flannel Wipes</td>\n",
       "      <td>These flannel wipes are OK, but in my opinion ...</td>\n",
       "      <td>3</td>\n",
       "    </tr>\n",
       "    <tr>\n",
       "      <th>1</th>\n",
       "      <td>Planetwise Wipe Pouch</td>\n",
       "      <td>it came early and was not disappointed. i love...</td>\n",
       "      <td>5</td>\n",
       "    </tr>\n",
       "    <tr>\n",
       "      <th>2</th>\n",
       "      <td>Annas Dream Full Quilt with 2 Shams</td>\n",
       "      <td>Very soft and comfortable and warmer than it l...</td>\n",
       "      <td>5</td>\n",
       "    </tr>\n",
       "    <tr>\n",
       "      <th>3</th>\n",
       "      <td>Stop Pacifier Sucking without tears with Thumb...</td>\n",
       "      <td>This is a product well worth the purchase.  I ...</td>\n",
       "      <td>5</td>\n",
       "    </tr>\n",
       "    <tr>\n",
       "      <th>4</th>\n",
       "      <td>Stop Pacifier Sucking without tears with Thumb...</td>\n",
       "      <td>All of my kids have cried non-stop when I trie...</td>\n",
       "      <td>5</td>\n",
       "    </tr>\n",
       "  </tbody>\n",
       "</table>\n",
       "</div>"
      ],
      "text/plain": [
       "                                                name  \\\n",
       "0                           Planetwise Flannel Wipes   \n",
       "1                              Planetwise Wipe Pouch   \n",
       "2                Annas Dream Full Quilt with 2 Shams   \n",
       "3  Stop Pacifier Sucking without tears with Thumb...   \n",
       "4  Stop Pacifier Sucking without tears with Thumb...   \n",
       "\n",
       "                                              review  rating  \n",
       "0  These flannel wipes are OK, but in my opinion ...       3  \n",
       "1  it came early and was not disappointed. i love...       5  \n",
       "2  Very soft and comfortable and warmer than it l...       5  \n",
       "3  This is a product well worth the purchase.  I ...       5  \n",
       "4  All of my kids have cried non-stop when I trie...       5  "
      ]
     },
     "execution_count": 218,
     "metadata": {},
     "output_type": "execute_result"
    }
   ],
   "source": [
    "import pandas as pd\n",
    "import numpy as np\n",
    "import matplotlib.pyplot as plt\n",
    "import string\n",
    "from sklearn.linear_model import LogisticRegression\n",
    "\n",
    "def remove_punctuation(text):\n",
    "    import string\n",
    "    translator = str.maketrans('', '', string.punctuation)\n",
    "    return text.translate(translator)\n",
    "\n",
    "baby_df = pd.read_csv('amazon_baby.csv')\n",
    "baby_df.head()"
   ]
  },
  {
   "cell_type": "markdown",
   "metadata": {
    "id": "x7HH3ZBaYe4R"
   },
   "source": [
    "## Exercise 1 (data preparation)\n",
    "a) Remove punctuation from reviews using the given function.   \n",
    "b) Replace all missing (nan) revies with empty \"\" string.  \n",
    "c) Drop all the entries with rating = 3, as they have neutral sentiment.   \n",
    "d) Set all positive ($\\geq$4) ratings to 1 and negative($\\leq$2) to -1."
   ]
  },
  {
   "cell_type": "code",
   "execution_count": 219,
   "metadata": {
    "colab": {
     "base_uri": "https://localhost:8080/"
    },
    "id": "fdTDwNH9Ye4U",
    "outputId": "39508b43-167b-4b28-c207-91895bfe1f40"
   },
   "outputs": [
    {
     "data": {
      "text/plain": [
       "True"
      ]
     },
     "execution_count": 219,
     "metadata": {},
     "output_type": "execute_result"
    }
   ],
   "source": [
    "#a) \n",
    "#At the beggining we have to remove punctuation and fill empty cells in database to prepare data for classification. We want to avoid situations when eg.\n",
    "#words 'love' and 'love!' are understood by model as two different words.\n",
    "baby_df['review'] = baby_df['review'].astype(str).apply(remove_punctuation)\n",
    "#short test:\n",
    "baby_df[\"review\"][4] == 'All of my kids have cried nonstop when I tried to ween them off their pacifier until I found Thumbuddy To Loves Binky Fairy Puppet  It is an easy way to work with your kids to allow them to understand where their pacifier is going and help them part from itThis is a must buy book and a great gift for expecting parents  You will save them soo many headachesThanks for this book  You all rock'\n",
    "remove_punctuation(baby_df[\"review\"][4]) == 'All of my kids have cried nonstop when I tried to ween them off their pacifier until I found Thumbuddy To Loves Binky Fairy Puppet  It is an easy way to work with your kids to allow them to understand where their pacifier is going and help them part from itThis is a must buy book and a great gift for expecting parents  You will save them soo many headachesThanks for this book  You all rock'"
   ]
  },
  {
   "cell_type": "code",
   "execution_count": 220,
   "metadata": {
    "colab": {
     "base_uri": "https://localhost:8080/"
    },
    "id": "DpigjsweYe4W",
    "outputId": "e401cfd4-67b8-463b-c500-49b86f54ccfc"
   },
   "outputs": [
    {
     "data": {
      "text/plain": [
       "True"
      ]
     },
     "execution_count": 220,
     "metadata": {},
     "output_type": "execute_result"
    }
   ],
   "source": [
    "#b)\n",
    "baby_df['review'] = baby_df['review'].fillna(\"\")\n",
    "#short test:\n",
    "baby_df[\"review\"][38] == baby_df[\"review\"][38]"
   ]
  },
  {
   "cell_type": "code",
   "execution_count": 221,
   "metadata": {
    "colab": {
     "base_uri": "https://localhost:8080/"
    },
    "id": "NbDmqbz8Ye4X",
    "outputId": "80efc85f-6206-40dc-ddd6-7cf47b4fb347"
   },
   "outputs": [
    {
     "name": "stdout",
     "output_type": "stream",
     "text": [
      "rating\n",
      "5    107054\n",
      "4     33205\n",
      "1     15183\n",
      "2     11310\n",
      "Name: count, dtype: int64\n"
     ]
    },
    {
     "data": {
      "text/plain": [
       "0"
      ]
     },
     "execution_count": 221,
     "metadata": {},
     "output_type": "execute_result"
    }
   ],
   "source": [
    "#c)\n",
    "#Then we are removing reviews where rating has a middle value and changing values for low rating for 1 and high rating for -1. \n",
    "#It's usually done in classification model which should focus more on extreme values.\n",
    "baby_df = baby_df[baby_df[\"rating\"] != 3]\n",
    "print(baby_df[\"rating\"].value_counts())\n",
    "\n",
    "#short test:\n",
    "sum(baby_df[\"rating\"] == 3)"
   ]
  },
  {
   "cell_type": "code",
   "execution_count": 222,
   "metadata": {
    "colab": {
     "base_uri": "https://localhost:8080/"
    },
    "id": "-1ZE3hrYYe4Y",
    "outputId": "1fc7c636-9c2e-4d8f-c2df-b3d2f1bb0644"
   },
   "outputs": [
    {
     "name": "stdout",
     "output_type": "stream",
     "text": [
      "rating\n",
      " 1    140259\n",
      "-1     26493\n",
      "Name: count, dtype: int64\n"
     ]
    },
    {
     "data": {
      "text/plain": [
       "0"
      ]
     },
     "execution_count": 222,
     "metadata": {},
     "output_type": "execute_result"
    }
   ],
   "source": [
    "#d)\n",
    "baby_df.loc[baby_df[\"rating\"] <= 2, \"rating\"] = -1\n",
    "baby_df.loc[baby_df[\"rating\"] >= 4, \"rating\"] = 1\n",
    "print(baby_df[\"rating\"].value_counts())\n",
    "\n",
    "#short test:\n",
    "sum(baby_df[\"rating\"]**2 != 1)"
   ]
  },
  {
   "cell_type": "markdown",
   "metadata": {
    "id": "BaPlHrZGYe4a"
   },
   "source": [
    "## CountVectorizer\n",
    "In order to analyze strings, we need to assign them numerical values. We will use one of the simplest string representation, which transforms strings into the $n$ dimensional vectors. The number of dimensions will be the size of our dictionary, and then the values of the vector will represent the number of appereances of the given word in the sentence."
   ]
  },
  {
   "cell_type": "code",
   "execution_count": 223,
   "metadata": {
    "colab": {
     "base_uri": "https://localhost:8080/"
    },
    "id": "bEXElUj9Ye4b",
    "outputId": "24376400-75b1-4522-852f-fcf016cf4c97"
   },
   "outputs": [
    {
     "name": "stdout",
     "output_type": "stream",
     "text": [
      "['adore' 'and' 'apples' 'bananas' 'dislike' 'hate' 'like' 'oranges' 'they'\n",
      " 'we']\n",
      "[[0 0 1 0 0 0 1 0 0 1]\n",
      " [0 0 0 0 0 1 0 1 0 1]\n",
      " [1 0 0 1 0 0 0 0 0 0]\n",
      " [0 1 1 0 0 0 2 1 0 1]\n",
      " [0 0 0 1 1 0 0 0 1 0]]\n"
     ]
    }
   ],
   "source": [
    "from sklearn.feature_extraction.text import CountVectorizer\n",
    "\n",
    "vectorizer = CountVectorizer()\n",
    "reviews_train_example = [\"We like apples\",\n",
    "                   \"We hate oranges\",\n",
    "                   \"I adore bananas\",\n",
    "                   \"We like like apples and oranges\",\n",
    "                   \"They dislike bananas\"]\n",
    "\n",
    "X_train_example = vectorizer.fit_transform(reviews_train_example)\n",
    "\n",
    "print(vectorizer.get_feature_names_out())\n",
    "print(X_train_example.todense())\n",
    "\n"
   ]
  },
  {
   "cell_type": "code",
   "execution_count": 224,
   "metadata": {
    "colab": {
     "base_uri": "https://localhost:8080/"
    },
    "id": "tlb9p95JYe4c",
    "outputId": "9f8d5051-d54b-4933-bc0b-e6442d7d5963"
   },
   "outputs": [
    {
     "name": "stdout",
     "output_type": "stream",
     "text": [
      "[[0 0 0 1 0 0 1 0 1 0]\n",
      " [0 1 1 1 0 1 0 1 0 1]\n",
      " [0 0 0 1 0 0 0 0 0 1]]\n"
     ]
    }
   ],
   "source": [
    "reviews_test_example = [\"They like bananas\",\n",
    "                   \"We hate oranges bananas and apples\",\n",
    "                   \"We love bananas\"] #New word!\n",
    "\n",
    "X_test_example = vectorizer.transform(reviews_test_example)\n",
    "\n",
    "print(X_test_example.todense())"
   ]
  },
  {
   "cell_type": "markdown",
   "metadata": {
    "id": "SEM5sD-7Ye4f"
   },
   "source": [
    "We should acknowledge few facts. Firstly, CountVectorizer does not take order into account. Secondly, it ignores one-letter words (this can be changed during initialization). Finally, for test values, CountVectorizer ignores words which are not in it's dictionary."
   ]
  },
  {
   "cell_type": "markdown",
   "metadata": {
    "id": "Ir2eJzaaYe4h"
   },
   "source": [
    "## Exercise 2\n",
    "a) Split dataset into training and test sets.     \n",
    "b) Transform reviews into vectors using CountVectorizer."
   ]
  },
  {
   "cell_type": "code",
   "execution_count": 225,
   "metadata": {
    "collapsed": true,
    "id": "hB5liuLCYe4j"
   },
   "outputs": [],
   "source": [
    "#a)\n",
    "from sklearn.model_selection import train_test_split\n",
    "#spliting reviews and rating into train and test sets\n",
    "reviews_train, reviews_test = train_test_split(\n",
    "    baby_df['review'], test_size=0.2, random_state=42\n",
    ")\n",
    "y_train, y_test = train_test_split(baby_df['rating'], test_size=0.2,random_state=42 )\n"
   ]
  },
  {
   "cell_type": "code",
   "execution_count": 226,
   "metadata": {
    "colab": {
     "base_uri": "https://localhost:8080/"
    },
    "collapsed": true,
    "id": "f24nvIjwYe4l",
    "outputId": "ce1b9289-2491-4a11-b889-3f0a2f11d676"
   },
   "outputs": [
    {
     "name": "stdout",
     "output_type": "stream",
     "text": [
      "['you', 'cannot', 'imagine', 'how', 'much', 'money', 'youll', 'save', 'and', 'it']\n"
     ]
    }
   ],
   "source": [
    "#b)\n",
    "#using countVectorizer\n",
    "vectorizer = CountVectorizer()\n",
    "#using data to create a vocabulary and generate matrix\n",
    "X_train_vectors = vectorizer.fit_transform(reviews_train)\n",
    "X_test_vectors = vectorizer.transform(reviews_test)\n",
    "#printing 10 words from learned vocabulary to check if code is correct\n",
    "print(list(vectorizer.vocabulary_.keys())[:10])\n",
    "\n",
    "\n"
   ]
  },
  {
   "cell_type": "markdown",
   "metadata": {
    "id": "ve99gmQJYe4n"
   },
   "source": [
    "## Exercise 3\n",
    "a) Train LogisticRegression model on training data (reviews processed with CountVectorizer, ratings as they were).   \n",
    "b) Print 10 most positive and 10 most negative words."
   ]
  },
  {
   "cell_type": "code",
   "execution_count": null,
   "metadata": {
    "collapsed": true,
    "id": "wMFyfHhOYe4o"
   },
   "outputs": [
    {
     "name": "stderr",
     "output_type": "stream",
     "text": [
      "c:\\Users\\Dell Latitude E5550\\anaconda3\\Lib\\site-packages\\sklearn\\linear_model\\_logistic.py:469: ConvergenceWarning: lbfgs failed to converge (status=1):\n",
      "STOP: TOTAL NO. of ITERATIONS REACHED LIMIT.\n",
      "\n",
      "Increase the number of iterations (max_iter) or scale the data as shown in:\n",
      "    https://scikit-learn.org/stable/modules/preprocessing.html\n",
      "Please also refer to the documentation for alternative solver options:\n",
      "    https://scikit-learn.org/stable/modules/linear_model.html#logistic-regression\n",
      "  n_iter_i = _check_optimize_result(\n"
     ]
    },
    {
     "data": {
      "text/html": [
       "<style>#sk-container-id-2 {\n",
       "  /* Definition of color scheme common for light and dark mode */\n",
       "  --sklearn-color-text: black;\n",
       "  --sklearn-color-line: gray;\n",
       "  /* Definition of color scheme for unfitted estimators */\n",
       "  --sklearn-color-unfitted-level-0: #fff5e6;\n",
       "  --sklearn-color-unfitted-level-1: #f6e4d2;\n",
       "  --sklearn-color-unfitted-level-2: #ffe0b3;\n",
       "  --sklearn-color-unfitted-level-3: chocolate;\n",
       "  /* Definition of color scheme for fitted estimators */\n",
       "  --sklearn-color-fitted-level-0: #f0f8ff;\n",
       "  --sklearn-color-fitted-level-1: #d4ebff;\n",
       "  --sklearn-color-fitted-level-2: #b3dbfd;\n",
       "  --sklearn-color-fitted-level-3: cornflowerblue;\n",
       "\n",
       "  /* Specific color for light theme */\n",
       "  --sklearn-color-text-on-default-background: var(--sg-text-color, var(--theme-code-foreground, var(--jp-content-font-color1, black)));\n",
       "  --sklearn-color-background: var(--sg-background-color, var(--theme-background, var(--jp-layout-color0, white)));\n",
       "  --sklearn-color-border-box: var(--sg-text-color, var(--theme-code-foreground, var(--jp-content-font-color1, black)));\n",
       "  --sklearn-color-icon: #696969;\n",
       "\n",
       "  @media (prefers-color-scheme: dark) {\n",
       "    /* Redefinition of color scheme for dark theme */\n",
       "    --sklearn-color-text-on-default-background: var(--sg-text-color, var(--theme-code-foreground, var(--jp-content-font-color1, white)));\n",
       "    --sklearn-color-background: var(--sg-background-color, var(--theme-background, var(--jp-layout-color0, #111)));\n",
       "    --sklearn-color-border-box: var(--sg-text-color, var(--theme-code-foreground, var(--jp-content-font-color1, white)));\n",
       "    --sklearn-color-icon: #878787;\n",
       "  }\n",
       "}\n",
       "\n",
       "#sk-container-id-2 {\n",
       "  color: var(--sklearn-color-text);\n",
       "}\n",
       "\n",
       "#sk-container-id-2 pre {\n",
       "  padding: 0;\n",
       "}\n",
       "\n",
       "#sk-container-id-2 input.sk-hidden--visually {\n",
       "  border: 0;\n",
       "  clip: rect(1px 1px 1px 1px);\n",
       "  clip: rect(1px, 1px, 1px, 1px);\n",
       "  height: 1px;\n",
       "  margin: -1px;\n",
       "  overflow: hidden;\n",
       "  padding: 0;\n",
       "  position: absolute;\n",
       "  width: 1px;\n",
       "}\n",
       "\n",
       "#sk-container-id-2 div.sk-dashed-wrapped {\n",
       "  border: 1px dashed var(--sklearn-color-line);\n",
       "  margin: 0 0.4em 0.5em 0.4em;\n",
       "  box-sizing: border-box;\n",
       "  padding-bottom: 0.4em;\n",
       "  background-color: var(--sklearn-color-background);\n",
       "}\n",
       "\n",
       "#sk-container-id-2 div.sk-container {\n",
       "  /* jupyter's `normalize.less` sets `[hidden] { display: none; }`\n",
       "     but bootstrap.min.css set `[hidden] { display: none !important; }`\n",
       "     so we also need the `!important` here to be able to override the\n",
       "     default hidden behavior on the sphinx rendered scikit-learn.org.\n",
       "     See: https://github.com/scikit-learn/scikit-learn/issues/21755 */\n",
       "  display: inline-block !important;\n",
       "  position: relative;\n",
       "}\n",
       "\n",
       "#sk-container-id-2 div.sk-text-repr-fallback {\n",
       "  display: none;\n",
       "}\n",
       "\n",
       "div.sk-parallel-item,\n",
       "div.sk-serial,\n",
       "div.sk-item {\n",
       "  /* draw centered vertical line to link estimators */\n",
       "  background-image: linear-gradient(var(--sklearn-color-text-on-default-background), var(--sklearn-color-text-on-default-background));\n",
       "  background-size: 2px 100%;\n",
       "  background-repeat: no-repeat;\n",
       "  background-position: center center;\n",
       "}\n",
       "\n",
       "/* Parallel-specific style estimator block */\n",
       "\n",
       "#sk-container-id-2 div.sk-parallel-item::after {\n",
       "  content: \"\";\n",
       "  width: 100%;\n",
       "  border-bottom: 2px solid var(--sklearn-color-text-on-default-background);\n",
       "  flex-grow: 1;\n",
       "}\n",
       "\n",
       "#sk-container-id-2 div.sk-parallel {\n",
       "  display: flex;\n",
       "  align-items: stretch;\n",
       "  justify-content: center;\n",
       "  background-color: var(--sklearn-color-background);\n",
       "  position: relative;\n",
       "}\n",
       "\n",
       "#sk-container-id-2 div.sk-parallel-item {\n",
       "  display: flex;\n",
       "  flex-direction: column;\n",
       "}\n",
       "\n",
       "#sk-container-id-2 div.sk-parallel-item:first-child::after {\n",
       "  align-self: flex-end;\n",
       "  width: 50%;\n",
       "}\n",
       "\n",
       "#sk-container-id-2 div.sk-parallel-item:last-child::after {\n",
       "  align-self: flex-start;\n",
       "  width: 50%;\n",
       "}\n",
       "\n",
       "#sk-container-id-2 div.sk-parallel-item:only-child::after {\n",
       "  width: 0;\n",
       "}\n",
       "\n",
       "/* Serial-specific style estimator block */\n",
       "\n",
       "#sk-container-id-2 div.sk-serial {\n",
       "  display: flex;\n",
       "  flex-direction: column;\n",
       "  align-items: center;\n",
       "  background-color: var(--sklearn-color-background);\n",
       "  padding-right: 1em;\n",
       "  padding-left: 1em;\n",
       "}\n",
       "\n",
       "\n",
       "/* Toggleable style: style used for estimator/Pipeline/ColumnTransformer box that is\n",
       "clickable and can be expanded/collapsed.\n",
       "- Pipeline and ColumnTransformer use this feature and define the default style\n",
       "- Estimators will overwrite some part of the style using the `sk-estimator` class\n",
       "*/\n",
       "\n",
       "/* Pipeline and ColumnTransformer style (default) */\n",
       "\n",
       "#sk-container-id-2 div.sk-toggleable {\n",
       "  /* Default theme specific background. It is overwritten whether we have a\n",
       "  specific estimator or a Pipeline/ColumnTransformer */\n",
       "  background-color: var(--sklearn-color-background);\n",
       "}\n",
       "\n",
       "/* Toggleable label */\n",
       "#sk-container-id-2 label.sk-toggleable__label {\n",
       "  cursor: pointer;\n",
       "  display: block;\n",
       "  width: 100%;\n",
       "  margin-bottom: 0;\n",
       "  padding: 0.5em;\n",
       "  box-sizing: border-box;\n",
       "  text-align: center;\n",
       "}\n",
       "\n",
       "#sk-container-id-2 label.sk-toggleable__label-arrow:before {\n",
       "  /* Arrow on the left of the label */\n",
       "  content: \"▸\";\n",
       "  float: left;\n",
       "  margin-right: 0.25em;\n",
       "  color: var(--sklearn-color-icon);\n",
       "}\n",
       "\n",
       "#sk-container-id-2 label.sk-toggleable__label-arrow:hover:before {\n",
       "  color: var(--sklearn-color-text);\n",
       "}\n",
       "\n",
       "/* Toggleable content - dropdown */\n",
       "\n",
       "#sk-container-id-2 div.sk-toggleable__content {\n",
       "  max-height: 0;\n",
       "  max-width: 0;\n",
       "  overflow: hidden;\n",
       "  text-align: left;\n",
       "  /* unfitted */\n",
       "  background-color: var(--sklearn-color-unfitted-level-0);\n",
       "}\n",
       "\n",
       "#sk-container-id-2 div.sk-toggleable__content.fitted {\n",
       "  /* fitted */\n",
       "  background-color: var(--sklearn-color-fitted-level-0);\n",
       "}\n",
       "\n",
       "#sk-container-id-2 div.sk-toggleable__content pre {\n",
       "  margin: 0.2em;\n",
       "  border-radius: 0.25em;\n",
       "  color: var(--sklearn-color-text);\n",
       "  /* unfitted */\n",
       "  background-color: var(--sklearn-color-unfitted-level-0);\n",
       "}\n",
       "\n",
       "#sk-container-id-2 div.sk-toggleable__content.fitted pre {\n",
       "  /* unfitted */\n",
       "  background-color: var(--sklearn-color-fitted-level-0);\n",
       "}\n",
       "\n",
       "#sk-container-id-2 input.sk-toggleable__control:checked~div.sk-toggleable__content {\n",
       "  /* Expand drop-down */\n",
       "  max-height: 200px;\n",
       "  max-width: 100%;\n",
       "  overflow: auto;\n",
       "}\n",
       "\n",
       "#sk-container-id-2 input.sk-toggleable__control:checked~label.sk-toggleable__label-arrow:before {\n",
       "  content: \"▾\";\n",
       "}\n",
       "\n",
       "/* Pipeline/ColumnTransformer-specific style */\n",
       "\n",
       "#sk-container-id-2 div.sk-label input.sk-toggleable__control:checked~label.sk-toggleable__label {\n",
       "  color: var(--sklearn-color-text);\n",
       "  background-color: var(--sklearn-color-unfitted-level-2);\n",
       "}\n",
       "\n",
       "#sk-container-id-2 div.sk-label.fitted input.sk-toggleable__control:checked~label.sk-toggleable__label {\n",
       "  background-color: var(--sklearn-color-fitted-level-2);\n",
       "}\n",
       "\n",
       "/* Estimator-specific style */\n",
       "\n",
       "/* Colorize estimator box */\n",
       "#sk-container-id-2 div.sk-estimator input.sk-toggleable__control:checked~label.sk-toggleable__label {\n",
       "  /* unfitted */\n",
       "  background-color: var(--sklearn-color-unfitted-level-2);\n",
       "}\n",
       "\n",
       "#sk-container-id-2 div.sk-estimator.fitted input.sk-toggleable__control:checked~label.sk-toggleable__label {\n",
       "  /* fitted */\n",
       "  background-color: var(--sklearn-color-fitted-level-2);\n",
       "}\n",
       "\n",
       "#sk-container-id-2 div.sk-label label.sk-toggleable__label,\n",
       "#sk-container-id-2 div.sk-label label {\n",
       "  /* The background is the default theme color */\n",
       "  color: var(--sklearn-color-text-on-default-background);\n",
       "}\n",
       "\n",
       "/* On hover, darken the color of the background */\n",
       "#sk-container-id-2 div.sk-label:hover label.sk-toggleable__label {\n",
       "  color: var(--sklearn-color-text);\n",
       "  background-color: var(--sklearn-color-unfitted-level-2);\n",
       "}\n",
       "\n",
       "/* Label box, darken color on hover, fitted */\n",
       "#sk-container-id-2 div.sk-label.fitted:hover label.sk-toggleable__label.fitted {\n",
       "  color: var(--sklearn-color-text);\n",
       "  background-color: var(--sklearn-color-fitted-level-2);\n",
       "}\n",
       "\n",
       "/* Estimator label */\n",
       "\n",
       "#sk-container-id-2 div.sk-label label {\n",
       "  font-family: monospace;\n",
       "  font-weight: bold;\n",
       "  display: inline-block;\n",
       "  line-height: 1.2em;\n",
       "}\n",
       "\n",
       "#sk-container-id-2 div.sk-label-container {\n",
       "  text-align: center;\n",
       "}\n",
       "\n",
       "/* Estimator-specific */\n",
       "#sk-container-id-2 div.sk-estimator {\n",
       "  font-family: monospace;\n",
       "  border: 1px dotted var(--sklearn-color-border-box);\n",
       "  border-radius: 0.25em;\n",
       "  box-sizing: border-box;\n",
       "  margin-bottom: 0.5em;\n",
       "  /* unfitted */\n",
       "  background-color: var(--sklearn-color-unfitted-level-0);\n",
       "}\n",
       "\n",
       "#sk-container-id-2 div.sk-estimator.fitted {\n",
       "  /* fitted */\n",
       "  background-color: var(--sklearn-color-fitted-level-0);\n",
       "}\n",
       "\n",
       "/* on hover */\n",
       "#sk-container-id-2 div.sk-estimator:hover {\n",
       "  /* unfitted */\n",
       "  background-color: var(--sklearn-color-unfitted-level-2);\n",
       "}\n",
       "\n",
       "#sk-container-id-2 div.sk-estimator.fitted:hover {\n",
       "  /* fitted */\n",
       "  background-color: var(--sklearn-color-fitted-level-2);\n",
       "}\n",
       "\n",
       "/* Specification for estimator info (e.g. \"i\" and \"?\") */\n",
       "\n",
       "/* Common style for \"i\" and \"?\" */\n",
       "\n",
       ".sk-estimator-doc-link,\n",
       "a:link.sk-estimator-doc-link,\n",
       "a:visited.sk-estimator-doc-link {\n",
       "  float: right;\n",
       "  font-size: smaller;\n",
       "  line-height: 1em;\n",
       "  font-family: monospace;\n",
       "  background-color: var(--sklearn-color-background);\n",
       "  border-radius: 1em;\n",
       "  height: 1em;\n",
       "  width: 1em;\n",
       "  text-decoration: none !important;\n",
       "  margin-left: 1ex;\n",
       "  /* unfitted */\n",
       "  border: var(--sklearn-color-unfitted-level-1) 1pt solid;\n",
       "  color: var(--sklearn-color-unfitted-level-1);\n",
       "}\n",
       "\n",
       ".sk-estimator-doc-link.fitted,\n",
       "a:link.sk-estimator-doc-link.fitted,\n",
       "a:visited.sk-estimator-doc-link.fitted {\n",
       "  /* fitted */\n",
       "  border: var(--sklearn-color-fitted-level-1) 1pt solid;\n",
       "  color: var(--sklearn-color-fitted-level-1);\n",
       "}\n",
       "\n",
       "/* On hover */\n",
       "div.sk-estimator:hover .sk-estimator-doc-link:hover,\n",
       ".sk-estimator-doc-link:hover,\n",
       "div.sk-label-container:hover .sk-estimator-doc-link:hover,\n",
       ".sk-estimator-doc-link:hover {\n",
       "  /* unfitted */\n",
       "  background-color: var(--sklearn-color-unfitted-level-3);\n",
       "  color: var(--sklearn-color-background);\n",
       "  text-decoration: none;\n",
       "}\n",
       "\n",
       "div.sk-estimator.fitted:hover .sk-estimator-doc-link.fitted:hover,\n",
       ".sk-estimator-doc-link.fitted:hover,\n",
       "div.sk-label-container:hover .sk-estimator-doc-link.fitted:hover,\n",
       ".sk-estimator-doc-link.fitted:hover {\n",
       "  /* fitted */\n",
       "  background-color: var(--sklearn-color-fitted-level-3);\n",
       "  color: var(--sklearn-color-background);\n",
       "  text-decoration: none;\n",
       "}\n",
       "\n",
       "/* Span, style for the box shown on hovering the info icon */\n",
       ".sk-estimator-doc-link span {\n",
       "  display: none;\n",
       "  z-index: 9999;\n",
       "  position: relative;\n",
       "  font-weight: normal;\n",
       "  right: .2ex;\n",
       "  padding: .5ex;\n",
       "  margin: .5ex;\n",
       "  width: min-content;\n",
       "  min-width: 20ex;\n",
       "  max-width: 50ex;\n",
       "  color: var(--sklearn-color-text);\n",
       "  box-shadow: 2pt 2pt 4pt #999;\n",
       "  /* unfitted */\n",
       "  background: var(--sklearn-color-unfitted-level-0);\n",
       "  border: .5pt solid var(--sklearn-color-unfitted-level-3);\n",
       "}\n",
       "\n",
       ".sk-estimator-doc-link.fitted span {\n",
       "  /* fitted */\n",
       "  background: var(--sklearn-color-fitted-level-0);\n",
       "  border: var(--sklearn-color-fitted-level-3);\n",
       "}\n",
       "\n",
       ".sk-estimator-doc-link:hover span {\n",
       "  display: block;\n",
       "}\n",
       "\n",
       "/* \"?\"-specific style due to the `<a>` HTML tag */\n",
       "\n",
       "#sk-container-id-2 a.estimator_doc_link {\n",
       "  float: right;\n",
       "  font-size: 1rem;\n",
       "  line-height: 1em;\n",
       "  font-family: monospace;\n",
       "  background-color: var(--sklearn-color-background);\n",
       "  border-radius: 1rem;\n",
       "  height: 1rem;\n",
       "  width: 1rem;\n",
       "  text-decoration: none;\n",
       "  /* unfitted */\n",
       "  color: var(--sklearn-color-unfitted-level-1);\n",
       "  border: var(--sklearn-color-unfitted-level-1) 1pt solid;\n",
       "}\n",
       "\n",
       "#sk-container-id-2 a.estimator_doc_link.fitted {\n",
       "  /* fitted */\n",
       "  border: var(--sklearn-color-fitted-level-1) 1pt solid;\n",
       "  color: var(--sklearn-color-fitted-level-1);\n",
       "}\n",
       "\n",
       "/* On hover */\n",
       "#sk-container-id-2 a.estimator_doc_link:hover {\n",
       "  /* unfitted */\n",
       "  background-color: var(--sklearn-color-unfitted-level-3);\n",
       "  color: var(--sklearn-color-background);\n",
       "  text-decoration: none;\n",
       "}\n",
       "\n",
       "#sk-container-id-2 a.estimator_doc_link.fitted:hover {\n",
       "  /* fitted */\n",
       "  background-color: var(--sklearn-color-fitted-level-3);\n",
       "}\n",
       "</style><div id=\"sk-container-id-2\" class=\"sk-top-container\"><div class=\"sk-text-repr-fallback\"><pre>LogisticRegression()</pre><b>In a Jupyter environment, please rerun this cell to show the HTML representation or trust the notebook. <br />On GitHub, the HTML representation is unable to render, please try loading this page with nbviewer.org.</b></div><div class=\"sk-container\" hidden><div class=\"sk-item\"><div class=\"sk-estimator fitted sk-toggleable\"><input class=\"sk-toggleable__control sk-hidden--visually\" id=\"sk-estimator-id-2\" type=\"checkbox\" checked><label for=\"sk-estimator-id-2\" class=\"sk-toggleable__label fitted sk-toggleable__label-arrow fitted\">&nbsp;&nbsp;LogisticRegression<a class=\"sk-estimator-doc-link fitted\" rel=\"noreferrer\" target=\"_blank\" href=\"https://scikit-learn.org/1.4/modules/generated/sklearn.linear_model.LogisticRegression.html\">?<span>Documentation for LogisticRegression</span></a><span class=\"sk-estimator-doc-link fitted\">i<span>Fitted</span></span></label><div class=\"sk-toggleable__content fitted\"><pre>LogisticRegression()</pre></div> </div></div></div></div>"
      ],
      "text/plain": [
       "LogisticRegression()"
      ]
     },
     "execution_count": 227,
     "metadata": {},
     "output_type": "execute_result"
    }
   ],
   "source": [
    "#a)\n",
    "from sklearn.metrics import accuracy_score\n",
    "#creating LogisticRegression model and fitting data\n",
    "model = LogisticRegression()\n",
    "model.fit(X_train_vectors, y_train)\n"
   ]
  },
  {
   "cell_type": "code",
   "execution_count": null,
   "metadata": {
    "collapsed": true,
    "id": "nMXuTrYnYe4p"
   },
   "outputs": [
    {
     "name": "stdout",
     "output_type": "stream",
     "text": [
      "[[ 0.00129108  0.0041022   0.01298436 ...  0.00145851  0.00087492\n",
      "  -0.00030991]]\n",
      "10 najbardziej pozytywnych słów:\n",
      "excellent: 2.4087\n",
      "awesome: 2.2799\n",
      "worry: 2.2030\n",
      "amazing: 2.1287\n",
      "pleased: 2.1259\n",
      "satisfied: 2.0490\n",
      "perfect: 2.0022\n",
      "complaint: 1.9495\n",
      "glad: 1.9293\n",
      "loves: 1.8213\n",
      "\n",
      "10 najbardziej negatywnych słów:\n",
      "disappointment: -2.2972\n",
      "returning: -2.3408\n",
      "disappointed: -2.3514\n",
      "poor: -2.5110\n",
      "terrible: -2.5589\n",
      "concept: -2.5996\n",
      "poorly: -2.9549\n",
      "useless: -3.0046\n",
      "disappointing: -3.2313\n",
      "worst: -3.3015\n"
     ]
    }
   ],
   "source": [
    "#b)\n",
    "print(model.coef_) #this is an array of coefficients values for each word [0] - positive and [1] - negative\n",
    "# then we are taking each coefficiency value and assing it to it's word from vocabulary\n",
    "coefficients = model.coef_[0] \n",
    "vocabulary = vectorizer.get_feature_names_out()\n",
    "# creating a list with words and assigned to them coefficients\n",
    "word_coef = list(zip(vocabulary, coefficients)) \n",
    "# sorting to find most positive and most negative words\n",
    "sorted_words = sorted(word_coef, key=lambda x: x[1], reverse=True)\n",
    "\n",
    "most_positive = sorted_words[:10]\n",
    "most_negative = sorted_words[-10:]\n",
    "#positive words are those that influence the model the most to tell that this specific review is positive\n",
    "print(\"10 most positive words:\")\n",
    "for word, coef in most_positive:\n",
    "    print(f\"{word}: {coef:.4f}\")\n",
    "#negative words are those that influence the model the most to tell that this specific review is negative\n",
    "print(\"\\n10 most negative words:\")\n",
    "for word, coef in most_negative:\n",
    "    print(f\"{word}: {coef:.4f}\")\n",
    "\n",
    "#hint: model.coef_, vectorizer.get_feature_names()"
   ]
  },
  {
   "cell_type": "markdown",
   "metadata": {
    "id": "pn8t6SFIYe4q"
   },
   "source": [
    "## Exercise 4\n",
    "a) Predict the sentiment of test data reviews.   \n",
    "b) Predict the sentiment of test data reviews in terms of probability.   \n",
    "c) Find five most positive and most negative reviews.   \n",
    "d) Calculate the accuracy of predictions."
   ]
  },
  {
   "cell_type": "code",
   "execution_count": 229,
   "metadata": {
    "collapsed": true,
    "id": "0Xx_6NgkYe4q"
   },
   "outputs": [],
   "source": [
    "#a)\n",
    "y_pred = model.predict(X_test_vectors)\n",
    "\n"
   ]
  },
  {
   "cell_type": "code",
   "execution_count": 230,
   "metadata": {
    "collapsed": true,
    "id": "EMT6301kYe4r"
   },
   "outputs": [],
   "source": [
    "#b)\n",
    "y_pred_proba = model.predict_proba(X_test_vectors)\n",
    "\n",
    "#hint: model.predict_proba()"
   ]
  },
  {
   "cell_type": "code",
   "execution_count": null,
   "metadata": {
    "collapsed": true,
    "id": "ixJrAXoAYe4r"
   },
   "outputs": [
    {
     "name": "stdout",
     "output_type": "stream",
     "text": [
      "\n",
      "5 najbardziej pozytywnych recenzji:\n",
      "Recenzja 1: I started wearing the Babyplus when I was 18 weeks pregnant My husband was skeptical but I figured it couldnt hurt I wore it for an hour every morning and an hour every night  I often wore it in the car since I had a 1 hour commute each way  I never found the sounds annoying  My son was born alert and calm he didnt even cry  He was such a good easy baby he really only cried if he was gassy or very hungry  Hes always had a really good disposition and people even strangers often comment about how sweet happy and easy going he is  Hes reached all his milestones early  He rolled over sat up and crawled early  He took his first steps one week shy of becoming 10 months old and was fully walking at 11 monthsIve also taught him sign language  He picked it up very quickly and he also started speaking at an early age  His language amazes me  He turned 16 months old a few days ago and can sign over 50 signs can speak over 120 words and even say 12 words in Spanish most children I know his age say less than 10 words  He can count to three and sometimes throws in a 6 or 8 while I count He knew all the body parts and not just the usual eyes ears nose but also shoulders neck elbows etc and all the animals and their sounds younger than his peers  He loves music  He LOVES books and could spend hours each day being read to or just flipping through his books on his own  Sometimes hell even say what is coming up on the next page before he or I even turn the page  He picks new things up so effortlessly  I only had to show him once for him to learn to put his dirty clothes in the hamper put his toys away in the toybox and throw garbage in the trash can  He loves to help and clean  Weve traveled with him a lot and he adjusts very well to new environments and people  Hes very smart and very sweet  Hes so good natured and such a joy to parent  I dont know how much of it was the Babyplus and how much is genetic and naturenurture but I will definitely be using the Babyplus for anyall next pregnancies  Ive even had a couple parents ask me what my secret was after being impressed by my son and I tell them I used the Babyplus  I also think the sign language and reading a lot has played an important roleI highly recommend using the Babyplus if you are pregnant or plan to become pregnantUPDATE  My son just turned 2 and is a delight  People are amazed at his language skills  He has known every letter of the alphabet all his shapes including pentagon and octagon and colors for months and can count to 20 in English and 10 in Spanish  He can identify different dinosaurs and can clearly say triceratops velociraptor stegosaurus etc  When we drive he points out bulldozers backhoe loaders car transporters etc When he hears music he can correctly identify a piano drums symbols trumpet saxophone flute etc  He will memorize a new book within a few days and reads to us  He is friendly and polite and rarely throws tantrums Ive never had to use a time out for him  He takes 3 hour naps and sleeps all night  He even tells me hes ready for nightnight and walks over to his crib  Hes just a great kidIm expecting another baby and in a few weeks will be ready to start using the BabyPlus again\n",
      "Recenzja 2: We love this highchair  We have a 4 year old and an 8 month old  This is our 3rd highchairFeatures we loveFit  This chair FITS my infant daughter  She fits in this chair without the extra insert way better than in the basic Evenflo chair we had before  I only use the 3point harness and let her shoulders be free and she sits at a correct level so her arms can move around well and she can lean and reach for things on the tray  Many other chairs have a real problem with fit  So I do believe that with the insert this is the perfect chair to start your 4 month infant in for feeding  The insert will make them more secure kind of like their carseatTray Insert  With our other chairs the tray clicks down into the larger tray all the way aroundyou can remove it for cleaning  Fine  But I always hated that food got into the crack nearest to the baby so I couldnt just wipe it downI HAD to remove it to get out all the gunk  The tray on this is so smartthe edge closest to the baby wraps all the way down and clicks under the lip of the large trayone smooth surface where all the food is landing  I love itUpholstry  I love this leather look  It cleans easy and is really cushy  The part that is designed to match other Graco gear is just an insert for small infants  The rest of it is just a tan color and it matches anythingSturdiness  I cant tell you how much safer I feel my daughter is in thisit is solid  I never felt terribly comfortable reclining her in other seats but this one is made well and I am not worriedVersitality  This is one of the best parts  We bought this and now we are using both the highchair for our 8 month old daughter and the booster for our 4 year old son  Here is how it works  Basically it is like a high chair with 2 bases  Both bases are toddler chairs themselves  I will call them the rolling base and the chair base  So you have a toddler seat attached to the rolling base and another toddler seat that you can attach with straps to a chair the chair base  Then you can take the separate highchair part and click it into the rolling base or to the chair base whichever you like  Then the unused base becomes a toddler chair  One might think that you could sit 3 children2 toddlers in the bases and then an infant in the highchair part but the highchair really needs to click into a base because it is not designed to be on its own  The highchair with the chair base would be great to take when traveling especially if you just use the snack tray and leave the large tray at home  And the toddler seat that is attached to the highchair frame is truly good for getting under tables with a lip because of its low sides unlike many toddler seats that come up too far and you cant scoot them under the tableWorth notingI see no problem with the snack tray  At 8 months my daughter fits fine and it is half as big as the traya great size snack tray  And it has its own separate cup holder  You really dont need the snack tray before they start feeding themselves so I cant see it being a problem at the age you would need itAdjustable foot rest  I just love this and it just makes it better for the baby to have more support  My 8 month old cant touch the highest setting yet but probably within 6 months or soToddler seat  I thought it was extra great that they include an adjustable backthere are 3 slots to put slide a back into the chairthat way you can match the length of the chair to your childs legs  My 4 year old is big enough that we removed the back and let him sit all the way back in order that is knees bend in the right place  But I can see where this would be a great feature for perfect fit through the yearsThis really is a great chair for every possible use infant toddler preschooler traveling having an extra seat if you have other kids over to your house  The system will seat 2 children at once 1 baby with tray and 1 older child OR 2 older childrenWe love thisworth every penny\n",
      "Recenzja 3: I did a TON of research before I purchased this stroller and I still watch stroller reviews all the time Babygizmocom has really great reviews on so many strollers And Zooper Waltz 2011 is THE BEST of all Ive seen so farLet me tell you first though that it is not an allterrain or jogging stroller and it does not have an ability to be used for more than one child So if youre looking for these things this is not it But if youre looking for a single stroller for city walking and a little bit of park and dirt etc and you dont want a monster stroller size and weight wise this is the best stroller of that kindOne of my favorite things about this stroller is that it comes with SO many accessories that are sold separately on most other strollers especially those expensive ones With this one you pay 300 I paid 250 for it on eBay and get the following accessories all included A UV netIt easily snaps onto the canopy to completely shade the front and there are two elastic loops at the bottom to attach it securely to the stroller It comes in a zippered pouch and whats genius about it is that the pouch itself is actually part of the net so you dont have to worry about ever losing the pouch A foot muff for cold weatherIt also easily snaps onto the seat This is something you dont see included with a stroller very often A removable cup holderIt can actually hold a travel mug Starbucks cup etc and not just a water bottle A snack tray for the childLarge enough to be actually practical Has a large deep cup holder that securely holds any sippy cup a bowllike section to put some snacks and two compartments in the middle A baby bumper barYou can either completely remove it or just swing it away to make it easier to get your child in and out of the stroller Infant car seat adapter strapsYou attach it to the Drings on the sides of the seat then it goes over your infant car seat and you secure it with a buckle and by tightening the strap Its not one of those big bulky frame adapters that some strollers have for infant car seat To me thats just one more thing to find a place for when youre not using it as a travel system This strap system feels very very secure and its just much more travel friendly A rain coverThe 2011 model does not come with a rain cover but thats because the improved canopy which is gigantic and fullcoverage is made of complete waterproof fabric and acts as a rain cover I love this because I dont have to worry about forgetting the rain cover at home or fiddling with it trying to put it on when it starts raining unexpectedly on the goSo only 300 with all these amazing practical accessories is absolutely the best price for its valueNow on to the stroller features Thats right I havent even started on the main stroller yet LightweightIts just under 19lbs Im petite and dont have a lot of arm muscle but I dont have any problem getting this in and out of my trunk or carrying it up a couple flights of stairs every once in a while High weight capacity of 55lbsNot that I would use it for a 55lbs child regularly but it means its that sturdy Easy to assembleIt comes in a big box and all you have to do is snap on the wheels and the canopy Super easy Took us 5 minutes However I do want to note that we attached the canopy wrong at first and because of that it ripped at the zipper when we tried to recline the seat There are four snaps on the bottom of the canopy one set at the very front on each side and another in the middle The front set snaps onto the sides of the seat and the middle ones onto the back of the seat Our mistake was attaching the front ones to the seat back But Zooper had a super nice warranty service where they sent us a brand new canopy for no charge even though it was our fault Newborn friendlyIt has a very flat recline position and the leg rest goes all the way up and securely zips on to the sides of the seat creating a bassinetlike environment The leg rest also lays flat for babies or goes down for older kids It also has an infant guard at the top of the seat that would prevent your infant from ever sliding out of the seat when the seat is fully reclined and the back of the canopy is removed But this piece can be tucked away with an attached velcro once your child gets taller It also comes with an infant head rest that is attached to the shoulder straps but this is also removable Onehanded open and fold and stands on its own when foldedNow theres a trick to doing it onehanded Its supposed to be done with two hands and its super easy to do but you can also do it onehanded To open it you unlock the lock on the side push the big button on the handle bar and instead of grabbing the small handle on the side like you would when youre opening it with two hands you just push down on the top bar of the basket with your foot To fold it first you retract the canopy and put the seat up to the upright position lock all the wheels and then push the big button on the handlebar lift up on the small handle on the side with your knee just a little nudge and then you push the whole stroller down towards the ground with the handlebar That allows the frame to slide into a folded position Then I usually have to push down on the front of the frame with my foot to engage the lock It might sound complicated but once you get the hang of it you can do it in seconds My babys been real clingy and so its been nice being able  to open and fold the stroller while holding him Fullcoverage canopy with a large viewing windowThis canopy is probably my favorite feature of this stroller First of all its huge and it folds all the way down to the bumper bar to completely shade and cover your child It has a large viewing window with a flap to cover it when not in use The flap has no noisy velcro on it so you wont have to worry about waking up your baby When the seat is fully reclined but you still want fullcoverage on your sleeping baby you can actually unzip whole another fullsized panel to do that Also theres another zipper on the canopy that you can unzip and reveal a mesh underneath the back of the canopy This enables a good airflow through the back into your child The whole back of the canopy and the mesh underneath it are both completely removable as well Great storageThe basket is huge and can fit my diaper bag another big bag with beach towels and blankets jackets water bottles and lunch fairly easily So its perfect for picnics and shopping It has a hard bottom so that you will never be dragging your stuff on the ground An amazing feature of this basket is that they put a vertical zipper on each side of the basket towards the front of the stroller that goes all the way to the bottom so you will have a complete access to the content even when the seat is fully reclined I love it I also like that the side fabric of the basket is kind of seethrough so you can see where everything isAlso there is a large pocket on the back of the canopy where I can fit my clutchsize purse and another pocket on top of it with a lid which is perfect for keeping your keys cellphones etc Theres another small pocket on the back of the seat where the warnings are supposed to go but thats where I keep my UV net and car seat adapters Onehanded bar recline that has 4 different positionsI can even adjust the recline up and down while walking with this stroller Seat fabric machinewashableThe seat fabric comes off to be machinewashed Canopy is spot clean only Excellent maneuverabilityIt pushes really well and as long as Im on a paved street I can totally push it and even turn it onehanded with the baby and tons of stuff in the basket It does pretty good on grass dirt and gravel but I usually need two hands to turn on rough terrain Carrying handle on the side and the ability to wheel behind when its foldedCarrying handle is definitely nice when I lift it up to put it in my trunk and if you have the front wheels locked you can wheel it behind you like a luggage Front swivel wheels that can also be locked straight for rougher terrain and onetouch rear brakeThis is pretty standard for most strollers but its definitely a nice feature All four wheels have suspension systemIve taken it on grass and some dirt roads and it pushed very well Padded five point harness that are height adjustableThis is pretty standard too and you do have to rethread the shoulder straps to adjust the height but you wont be adjusting them all the time so this is not an issue The paddings on the shoulder straps are easily removable The buckle is easy to do no puzzle pieces You can also detach the shoulder straps and use it as a 3 point harness once your child is old enoughAs you can tell I just cannot say enough good things about this stroller Ive been using it for almost 7 months since my son was a newborn and I absolutely love itZooper also has Bolero and Twist and the differences areBolero is 400 and comes with a bassinet kit to make the seat a real bassinet Its a tad bigger and heavier but has a more compact standing fold than WaltzTwist is 200 and has an umbrella fold It can not stand on its own when folded but everything else is the same as Waltz\n",
      "Recenzja 4: This is a review of the 2012 Bumbleride Flite in Ruby color Our baby is 4 weeks now and we got the stroller shortly before she was born Its our only strollerWe live in a city and I wanted a stroller with a small footprint both open and closed that is also lightweight Even smaller than the City Mini which is a popular stroller in our neighborhood To me this meant an umbrella stroller But I wanted to find one that we could use from birthThis stroller really fit the bill The most similar stroller is actually the recent model Maclaren Quest which also fully reclinesI only tried the Quest in the store so I dont have real world experience with it but the Quest is definitely a better stroller in two ways It folds more smoothly and uses a clever onehand folding mechanism and the recline uses a latch that you can also do with one hand and goes even more horizontal than the FliteThe Flite folds and unfolds pretty easily but you have to get the hang of it Once youre pro it is just possible to do with one hand but its easiest with two It folds very compactly locks closed automatically and unlocks automatically when you unfold leans upright against the wall and has a handy builtin carrying handle You can toss it into the car without a thought There was an issue in previous years where one of the folding bars could fold unexpectedly but this issue is goneThe recline uses a draw strap so needs two hands and doesnt go 100 flat but its flatter than a car seat for example The back actually goes quite horizontal the issue is more that the seat bottom that supports the upper legs is angled up and that you cant adjust you can adjust the incline of the back and of the part that supports the lower legs of an older child Bumbleride says its safe from birth and we even mentioned it to a chiropractor who said if anything its probably better to be a little inclined I definitely recommend using a Snuzzler not the little infant headrest that Bumbleride supplies Most important we used it with our newborn from 2 or 3 weeks and I can report that shes perfectly comfortable and cozy and falls right asleep as we stroll Bumbleride used to sell a bassinet accessory for this stroller but it is practically a little bassinet alreadyI think the suspension works pretty well although its hard to tell what youd feel in the seat compared to what I feel in my arms as we stroll It certainly maneuvers great and the small size is beneficial I was even in a small bookstore the other day with her You can stroll with one hand even on bumpy sidewalks The light weight is great for curbs We rolled up a big grassy hill in a park and it was fine I imagine strollers with bigger wheels could be smoother on some terrains but I really dont think the kid cares if anything she probably likes the movement At some point you have to lift the wheels over big bumps but this must be true of all strollers at some pointTo me the bottom basket is plenty The trick of course is to load it from the front You can put a heavy blanket and a new package of diapers not a case of course in there at the same timeThe canopy isnt huge but its helpful The peekaboo window works great when the seat is reclined you look right down at her face The rain cover sold separately since 2012 is a nice oneThe Flite seems to weigh more than the stated 14lbs as others have noted I think its between 1516lbs obviously with the wheels and canopy attached But for all I know all stroller manufacturers understate their weights To me it does feel a little lighter than the City Mini and about the same as the Quest which is in line with what their respective weights are supposed to beThe Flites most unique feature is you can put a car seat in it This the Quest cant do This must be one of the most compact and lightest strollers with that feature We first tried the Graco SnugRide Click Connect 35 and realized Bumbleride doesnt recommend this model it sort of fits but not perfectly Then we tried the Graco SnugRide Classic Connect 30 which fits fine but we finally wound up with the Chicco KeyFit 30 which we really like and fits really snugly When you close the carseats canopy and the stollers canopy the baby can be completely enclosed except for a little crack on the sides You can securely lift the whole stroller by the carseats handle handy for curbs You do need to use the supplied strap to secure the carseat to the stroller My one minor annoyance with the Flite is that as you can imagine for a stroller like this you need to remove the supplied carseat adapter bar to fold the stroller and then theres no place to store the bar it just kind of hangs around in the trunk of the car I imagine some carseat and stroller or SnapNGo combinations such as strollers made by car seat manufacturers would be more convenient in that the car seat just snaps inout and then you can fold the stroller if youre going to be doing that really often but we didnt find a stroller we liked that worked that way Its by no means difficult with the Flite and many other strollercar seat systems work the exact same way In any case the car seat feature has been handy when were actually driving someplace so we dont have to wake the baby to put her in the stroller and so shes enclosed more completely in there such as a trip to the doctor followed by sleeping in the waiting room We also wanted the feature because we thought the baby might not be cozy enough just in the stroller as a newborn but after the first week or so we dont find ourselves using the carseat just for more support when strolling around the neighborhood rather we put the baby directly in the stroller now so its lighter to maneuver and simpler for us and I think the baby likes having a little more space in there On the other hand she turned out to be tall for her age at 23 weeksEverything about the stroller feels both durable and friendly from the aluminum tubing to the rubber parts to the straps to the fabricBumblerides customer service seems excellent based on their Facebook page one phone call I had with them to ask a question before the purchase and another email exchange to ask another question after the purchaseThe 2013 model apparently has a bigger canopy and a harness that is harder for toddlers to release and that lets you detach the shoulder straps from the waist straps I suppose that could be handy although we havent had any difficulties with the Flites harnessIn the end we just liked the looks and feel of this stroller compared to the Quest and the car seat feature Weve really enjoyed the stroller in practice and so has the baby as far as we can tell It is for sure a reliable way to put her to sleep I strongly recommend it I think its a unique stroller if youre looking for this combination of qualities and features Perhaps I will update this review in years to come after weve had a chance to try it on public transportation and with the seatback upright once our daughter is older\n",
      "Recenzja 5: The joovy zoom 360 was the perfect solution for us We couldnt justify spending the money on a mountain buggy terrain but we wanted a very sturdy allterrain jogger with a locking swivel wheel I tried out a BOB as well in the store I also wanted a large sun canopy and a seat that my daughter would be able to fit in for years This stroller is affordable while still having most of the features I was looking for in a jogger The biggest compromise for me was that I had wanted a hand brake but honestly I probably dont need it This stroller is so easy to push and stop that it is unnecessaryThe fabric is sturdy and feels like it will really lastThe foot rest is far enough away from the seat that my daughter will be able to fit comfortably in the seat for several years without outgrowing it It is sturdy metal with drainage holes I didnt like the BOBs foot rest because it was made of fabricThe locking swivel wheel is easy to lock or unlock It doesnt shake when I jog I use this on the woods trails and the stroller goes right over rocks roots and small stumps without a problem The 16 rear tires are great and make for a very smooth ride The suspension is nice and springyThe canopy is AWESOME I like that it is so strong and very adjustable It also stands up well to the wind The full sun coverage is one of the reasons I picked this stroller It has two reflective strips on the front The window is large and works great The Velcro flap is held up with a toggleThe straps for the 5point harness straps are adjustable both in length and position but the shoulder straps are wide enough that my 5monthold tends to have one slip off a shoulder I think it will work perfectly as she grows They also have reflective stitching which is nice The buckle is simple for adults but hard for children It would be nice to have padding and a chest strap but I can live without itThe seat is sturdy and has lots of room for growth I can still use this stroller for a 5 or 6 yearold with no problem The weight capacity is very high compared to similar jogging strollers The seat sits up enough that a child can see out without leaning forward yet it also reclines very easily for a newborn When reclined the back of the seat is mesh which allows for good air flow To block the sun or wind I just hang a blanket over the backStorage on this stroller is great The basket on the bottom is large and can hold up to 5 pounds it says I put more than that in there just fine The back of the seat has a mesh pocket that can hold up to 3 lbs There are 2 mesh pockets on the sides in the seat for the child to use There is also an included parent console that attaches to the handlebar with four Velcro straps I like that it is not permanently attached and that it is included The cup holders are neoprene and large enough and deep enough for Nalgene bottles and the center compartment has a zippered cover The center compartment is large enough for my phone digital camera and keys with room to spareThe handlebar is not adjustable which is a bummer but it is padded with foam and is a good height for me 57 and my husband 6 1 and my sister 54 to use comfortably The runaway strap is attached to the bottom of the stroller where the storage compartment is which is great because it wont tip the stroller over if I fall down and the stroller gets away from me The strap has Velcro to attach it to itself around the handlebar for storageI havent used the rain shield because I dont tend to go jogging in the rain but I like that I have the option I am glad it is includedThe tire pump is included and has a spot to Velcro into the basket below the seat I had a hard time figuring out how to follow the directions to get the pump to work because the tube is stuck into the other end of the pump and I couldnt find it It isnt screwed in it is the brasslooking thing on the end that you can grab well enough to pull on and then it comes right out and screws into the opposite end of the pump It works very well and in no time my tires were ready to go It would be nice if there was an air pressure gauge but I cant be too picky I supposeThis stroller glides along and can be easily pushed turned and stopped with one hand even on grass or on a hill Granted my daughter is still very young but I have tried it with larger children as well and have been impressed I highly recommend this stroller I wish they made a double version\n",
      "\n",
      "5 najbardziej negatywnych recenzji:\n",
      "Recenzja 1: My husband and I are VERY disappointed and shocked by how awful this bassinet is We ordered it because we liked the color and it looked nice and simple and it was inexpensive Well we got what we paid for1 It comes in 3 parts so you would think assembly would be a piece of cake EVERYTHING about assembling this is awful There are metal wires on the back that you have to force into these clips which is almost impossible because the wire is way too long I 10 months pregnant had to push the opposite side of the bassinet as hard as i could so my husband could try to get the wire into the clips that it comes with This took us a very long time2 Next we tried to pull the legs apart which were wedged together by all the screws and things attached3 THE CANOPY You would think this would be a sinch right The canopy wires or wine as they call them in the instructions was backwards The canonpy is so flimsy that it hardly is worthwhile Once we got the canopy wire turned around correctly we pushed as hard as possible to insert the canopy into the base and twice in about an hour the canopy already popped out which clearly poses a safety issue if there were a baby inside4 The wheels were very hard to insert to the point that they clicked in5 The instructions were obviously written by a nonEnglish speaking person Not only is the grammar horrific there are spelling errors and the instructions tell you NOTHING What does Pull forward to open pull afterward to close mean This is all that is given on how to insert the canopy Which again you would think would be self explanatory But when you are trying for 20 minutes to get it to insert and the wire is backwards you look for some sort of instruction The only instruction they do give is the obvious Again open canopy Ok thank you thats great HOW DO YOU INSERT IT PROPERLY6 Finally the color is very weird I wouldnt have even mentioned this if it wasnt so awful in every other way I thought it was going to be green but like a previous review said its blue and yellow plaid with green ruffles The sheet that comes with it is a very rough material The basket beneath seems impossible to get into as there is just a very small opening on the sides All of this I could have lived withI am so frustrated with this because we are having our baby in 3 days and the bassinet just arrived I was excited assuming we would have the bassinet in time for the baby Now it appears we are going to have to return it because it is so awfulIf we can figure out how to get this thing apart and no wonder it is out of stock everywhere no one wants to sell junk like this I was going to keep it and make do with it until the canopy continued to pop out I cant put my baby in something this unsafe And now its to the point where I am so frustrated with how poorly made this is that even though it was only 60 its the principle that I want something that will last through future children I have no idea where we are going to put our baby for the first week or so during the most exhausting period of motherhood Thanks a lot Dream on Me\n",
      "Recenzja 2: I am so incredibly disappointed with the stroller I just dont even know where to begin  First of all I have four children and have been through many strollers  This stroller hands down is the worst stroller I have ever owned  I really wanted a double stroller that was somewhat compact but that would also accommodate an infant car seat  The Aria twin claims to be able to do thisCONS So first a foremost I would NEVER place an infant car seat on this stroller  Even with a Peg Perego infant car seat it is really unsteady while on the stroller  The tray the car seat rests on is super flimsy as in worse than a super cheap 40 dollar stroller In general the entire stroller is made of really flimsy cheapo plastic With two small children in it one that weights 22 pounds and the other only 15 pounds the stroller is really difficult to steer  When attempting to turn the entire plastic frame twists and feels like it is going to brake  It feels like trying to turn with two 100 pound kids overloading the stroller It feels like a really cheapo stroller From day one the storage basket under the kids has dragged on the ground  Yes it is installed correctly  I even called Peg Perego but they said there was nothing they could do  So now it has a giant hole in it and cannot be use Since about the second week we owned the stroller the tires on the wheels of the stroller keep randomly popping off  I will be walking in the mall and hear a thumpthumpthump sound only to see a tire half hanging on tot he wheel The cup holder is worthless and will not fit anything at all except maybe a small water bottle The sun shades are really really short I had to buy extensionsPRO It does fold very compactly as in much smaller than most single strollersI really wanted to love this stroller  I kept making excuses for it but finally just gave up  At this point my husband refuses to use it  We really have been through many strollers and none are perfect  However if you are looking for a somewhat compact but nice double stroller I would recommend looking at the Baby Jogger City Mini which is what I ended up buying to replace this stroller or maybe the Combi double stroller which our friends have and seem to really enjoy  I would not waste money on the Aria twin  I spent over 300 dollars on this stroller and cant even attempt to resell it because after less than a year of use it is basically trash which is what it wound up being  I dont know about other Peg Perego products but after my experience with this stroller I can honestly say Im not going to gamble my money on the brand again\n",
      "Recenzja 3: PLEASE HEED THE OTHER REVIEWERS WARNINGS ON THIS  I am not one to write a review but the Evenflo high chair is so dangerous and the company so negligent that I had to let others know  We have the Evenflo Majestic Highchair which has recently finally been recalled  We had issues with the screws popping out of the recliner section of the chair when we used it with our then 4 month old I called Evenflo last March they sent me a repair kit with longer screws still didnt work Customer service had told me then this was not a common problem and that even with a screw missing highchair was safe to use not dangerous Im so furious they lied about my sons safety Our longer screws did pop out a few times we put them back in I called back and since the highchair still held up fine and they told me it was okay to use we wrongly trusted Evenflo and continued to use the highchair my husband had checked it and felt is was okay I just called in response to last weeks recall and they said they do have a record of me calling sorry that happened and would I like a new set of screws They wont give a refund and the new screws which they will ship out in approx 2 weeks and recommend we dont use the highchair in the meantime supposedly work better than the original replacements I am returning this to the store and if they wont accept the return Ill have to eat the cost and throw out the chair  Weve had so many of our kids things recalled its infuriating that these companies only have to send screws that may or may not work and before their belated recalls our kids are at risk and to boot this time they assured me there was no danger Please do not buy Evenflo and know that you cant trust the info you receive from customer serviceIm am so thankful my son wasnt injured Weve had other issues with most of our Evenflo products not working correctly but all involving bells and whistles not structual I just cant understand how these companies put more money into their impossible to open packaging than into their product safety\n",
      "Recenzja 4: My disappointment with this product prompted me to write to the manufacturer  Below is my correspondenceIm writing you this email to express my deep dissatisfaction with a recently purchased Graco productMy wife and I are new parents and as expected the Graco brand was quite heavily represented on many items that expectant parents needAmong other things we purchased a Graco car seat extra seat base and a Pack and PlayAt this point our daughter is only a week old the car seat has seen limited use but the Pack and Play has already been put through some paces and it is this product that I am writing to you aboutThe model we purchased was the Pack n Play Dempsey  The main reasons we chose this model were the designcolor and the fact that it had a changing table  The additional storage seemed to be a nice feature thought not something that we will probably use at this point and as it disappears when not used as a bassinet it has limited usefulnessI have quite a few reasons to be dissatisfied with this product but by far the biggest disappointment is the changing tableThe design flaws with the changing table are glaring  It is supported only on one side leaving the other side to hang across the bassinetplayard with nothing to brace it  Our daughter who is just barely 8 pounds places enough weight on the table that it dips down on the unbraced side causing her to roll over on the side  Even if placing her as far as possible over to the braced side even a few pounds of weight over the center of the table will cause it to slant and thus cause a baby to roll over to their side  As you can imagine trying to change a baby on a device like this is akin to placing them on a slide or ramp  it is not conducive  Furthermore I dont believe it to be safe as newborns do not have full control or strength in their necks and this table causes their bodies to slant underneath them  causing them to contort in uncomfortable and possibly dangerous waysYour website states that this changing table is to be used by babies up to 25 lbs  I cant possibly imagine how a child that large wouldnt cause the table to dip at even more dangerous angles  Reviewers at Babies R Us which unfortunately I didnt consult until after this product was purchased and assembled state that children as small as 5 lbs experience these same issues  In fact out of 43 reviews at the Babies R Us site almost every other one speaks of issues that people have found with this table  The overall review as of this writing is 33 out of 5 stars which equates to 67  I wouldnt expect my daughter to bring home grades like that once she enters school  and you should find such ratings for your products absolutely unacceptableWhat is even more disappointing is that this could have easily been averted had the table been given a similar design on both sides  A couple inches of plastic leg support on the floating side of the table could have braced it against the frame and completely avoided this issue  How could something like this even have made it past your design and quality control divisionsWhile the changing table situation is enough to sour me on this product I must also mention briefly some other problems with the productThe small sound machine that comes with this model plays at such a low volume that you can legitimately not hear here it in all but the quietest room  Standing 3 feet from the crib the sound couldnt be heard over a lower than normal conversational tone  While I understand there could be safety issues from glaring sounds this device errs way to far on the side of caution to be unusable  We have plenty of other noise making baby toys which dont suffer from these issues  If the baby is quiet enough to be able to hear these sounds they are most likely already asleep in a quiet room and dont need to be soothedI was also very surprised that the mobile was not electric  While your site does not specifically state the Babies R Us site which I have no doubt Graco writes andor approves the copy states as a feature Electronics module and mobile  This misleading combination of the two features infers that the mobile is indeed electronic and therefore would move of its own power  Not only does the mobile not move on its own its design is such that spinning it by hand causes it to move around maybe on 34 revolutions 23 seconds before the friction of its design causes it to stop  It is also placed at such a level that it would never be reachable at all by a child to play with or spin on its own perhaps from a safety issue that is best  So instead of a functional mobile what the child gets is the opportunity to stare at the feet of a few stationary turtlesWhile not incredible difficult to assemble the included instructions are poorly designed at best and misleading of incorrect at worst  I probably could have assembled the device in shorter order without referring to the instructions  For example why instruct the installation of the mattress in the bottom of the unit and then go back to instruct that it must be removed in order to configure the bassinet  Wont most people be assembling and using this as a bassinet first until their child grows into the playardI also find the advertising of these products as portable pack and plays a little absurd  While you can certainly collapse them to a smaller size the ability to fit them back into their original carriers is not an easy affair  Forget about trying to disassemble the accessories  snapping apart the mobile or attempting to remove the metal frame from the changing table fabric would certainly cause damage to these parts after several times  Additionally while my wife certainly is getting better muscle tone carting around a new child your prevalent advertisements with the mother toting the collapsed playard in one hand as if it were an empty picnic basket is patently absurdUnfortunately these last few complaints about the model seem to be inherent in most all of your Pack n Play models and as such I dont believe that returning this Dempsey model for another Graco playard would really make much of a difference  I suppose I could trade it for a cheaper model with no storage or changing table but the time and effort involved isnt worth the 6075 that would be saved  To be honest I am surprised based on the quality of this product that Graco has established such a reputation and large market share in the playard departmentI certainly wont be recommending these products in the future  Additionally I will be placing this review on both Amazon and the Babies R Us website  I invite you to answer these concerns at least in those forums should you choose not to respond to them hereThank you for your time but no thank you for the productSincerelyA Disappointed Customer\n",
      "Recenzja 5: I had to return this stroller for three reasons1 Straps are too small and my 15 month old who is average size2 The pictured armrest is not included3 Customer service phone numbers are disconnected I finally reached someone and our conversation was ended abruptly with a strange BEEEEP when I was in midsentence The person was nice enough to email photos of the straps since they assumed customers are idiots and I did not have them adjusted to maximum length before I made the callAllow me to go into detail about these straps First of all they are too small to fit any toddler The design of the seat and straps are not intuitive and it seems like the straps were an afterthought When fully expanded the straps just barely fit my daughter and I took her out of the stroller immediately because she was visibly uncomfortable I adjusted the shoulder height strap to the highest passage which is not easy to do and expanded the straps fully The clasp which attaches to the seat is positioned too far back and if moved forward would provide more room The measurements are completely off and it seems like they did not have any reasonable testing to support a 55 pound limit on this stroller I was very disappointed that I could not use this stroller after I spent the money and now all this time unpacking it and putting it together Now Ive spent even more time disassembling repacking sealing and requesting a return through Amazon What funBesides the straps issue the stroller is well made The seat fabric is quality The metal frame seems to be sturdy and the wheels although plastic are ready to ride I didnt have the opportunity to push my daughter but it glides smoothly with no weight in the seat The cupholder is nice but attaches to the frame of the stroller in an awkward position Another afterthought in their 34design34 process When I was putting the stroller together the little Zooper sticky logo came off the side of the frame which covered a screw hole It was just barely hanging on there with some sort of lame adhesive I tried to stick it back on but I expect it will fall off again soonSo I called the toll free customer service phone numbers on all of the printed materials and packing sheets which were in the box I reached a call center and the woman who answered had a heavy accent and no idea what I was talking about when I asked for Zooper customer service One number was out of service I tried the third number and the person who answered seems surprised at my phone call He was helpful but I dont think he really understood the seat design as I was explaining how the straps were already extended Its difficult to communicate this problem over the phone He mentioned that 34someone else34 had received a stroller with short straps Well why are they still selling this defective product He took my information and said they would be mailing a set of longer straps for the stroller We were disconnected suddenly I would hate to assume he hung up on me I was pleasant and accommodating to his request for information so he could help me I stated on the phone that I was considering returning the stroller because I cant use it and I was unhappy with the product Thats when the call ended I didnt have a chance to mention the armrest while on the phone but I responded to the email with a picture of this Amazon listing and said the armrest was not included That was 11 days ago and I have still not received the longer straps I have a feeling they arent coming and now Im just angry about the entire situation This is why I order on Amazon if I had purchased directly from this company I have a feeling Id never get a refund eitherThats about the size of it Im returning the stroller this week and spending a few more dollars to get the Joovy We needed a stroller three weeks ago this one is useless and Im tired of looking at it I paid 16589 for a hassle I still cant believe it cost 1789 to ship this piece of garbage but thats what it cost I expect a FULL refund\n"
     ]
    }
   ],
   "source": [
    "#c)\n",
    "#this is an array that contains of proabilieties for each class\n",
    "positive_indices = np.argsort(y_pred_proba[:, 1])[-5:]\n",
    "negative_indices = np.argsort(y_pred_proba[:, 0])[-5:]\n",
    "#extracting the reviews from their indices using .iloc\n",
    "most_positive_reviews = reviews_test.iloc[positive_indices]\n",
    "most_negative_reviews = reviews_test.iloc[negative_indices]\n",
    "#the 5 reviews with the highest positive/negative probabilities\n",
    "print(\"\\n5 most positive reviews:\")\n",
    "for i, review in enumerate(most_positive_reviews):\n",
    "    print(f\"Review {i + 1}: {review}\")\n",
    "print(\"\\n5 most negative reviews:\")\n",
    "for i, review in enumerate(most_negative_reviews):\n",
    "    print(f\"Review {i + 1}: {review}\")\n",
    "\n",
    "#hint: use the results of b)"
   ]
  },
  {
   "cell_type": "code",
   "execution_count": null,
   "metadata": {
    "collapsed": true,
    "id": "2_4ZnNsTYe4s"
   },
   "outputs": [
    {
     "name": "stdout",
     "output_type": "stream",
     "text": [
      "Accuracy: 0.9350\n"
     ]
    }
   ],
   "source": [
    "#d)\n",
    "#calculating accuracy\n",
    "y_pred = model.predict(X_test_vectors)\n",
    "accuracy1 = accuracy_score(y_test, y_pred)\n",
    "\n",
    "print(f'Accuracy: {accuracy1:.4f}')\n",
    "#as we can see accuracy is very high"
   ]
  },
  {
   "cell_type": "markdown",
   "metadata": {
    "id": "imysr3qeYe4s"
   },
   "source": [
    "## Exercise 5\n",
    "In this exercise we will limit the dictionary of CountVectorizer to the set of significant words, defined below.\n",
    "\n",
    "\n",
    "a) Redo exercises 2-5 using limited dictionary.   \n",
    "b) Check the impact of all the words from the dictionary.   \n",
    "c) Compare accuracy of predictions and the time of evaluation."
   ]
  },
  {
   "cell_type": "code",
   "execution_count": 233,
   "metadata": {
    "collapsed": true,
    "id": "ibg1L1quYe4t"
   },
   "outputs": [],
   "source": [
    "significant_words = ['love','great','easy','old','little','perfect','loves','well','able','car','broke','less','even','waste','disappointed','work','product','money','would','return']"
   ]
  },
  {
   "cell_type": "code",
   "execution_count": 234,
   "metadata": {
    "collapsed": true,
    "id": "UeQl1XvwYe4t"
   },
   "outputs": [],
   "source": [
    "#a)\n",
    "model2 = LogisticRegression()\n",
    "\n",
    "vectorizer = CountVectorizer(vocabulary=significant_words)\n",
    "\n",
    "X_train_vectors = vectorizer.fit_transform(reviews_train)\n",
    "X_test_vectors = vectorizer.transform(reviews_test)\n",
    "\n",
    "model2.fit(X_train_vectors, y_train)\n",
    "y_pred_limited = model2.predict(X_test_vectors)\n",
    "coefficients = model2.coef_[0]\n",
    "vocabulary = vectorizer.get_feature_names_out()\n",
    "\n",
    "\n"
   ]
  },
  {
   "cell_type": "code",
   "execution_count": null,
   "metadata": {
    "collapsed": true,
    "id": "H3s0KmoSYe4u"
   },
   "outputs": [
    {
     "name": "stdout",
     "output_type": "stream",
     "text": [
      "10 najbardziej pozytywnych słów:\n",
      "loves: 1.6850\n",
      "perfect: 1.5151\n",
      "love: 1.3590\n",
      "easy: 1.1932\n",
      "great: 0.9309\n",
      "little: 0.5024\n",
      "well: 0.4962\n",
      "able: 0.1933\n",
      "car: 0.0745\n",
      "old: 0.0734\n",
      "\n",
      "10 najbardziej negatywnych słów:\n",
      "less: -0.2016\n",
      "product: -0.3137\n",
      "would: -0.3422\n",
      "even: -0.4897\n",
      "work: -0.6356\n",
      "money: -0.9464\n",
      "broke: -1.6806\n",
      "waste: -1.9796\n",
      "return: -2.0928\n",
      "disappointed: -2.3988\n"
     ]
    }
   ],
   "source": [
    "#b)\n",
    "word_coef = list(zip(vocabulary, coefficients)) \n",
    "sorted_words = sorted(word_coef, key=lambda x: x[1], reverse=True)\n",
    "\n",
    "most_positive = sorted_words[:10]\n",
    "most_negative = sorted_words[-10:]\n",
    "\n",
    "print(\"10 most positive words:\")\n",
    "for word, coef in most_positive:\n",
    "    print(f\"{word}: {coef:.4f}\")\n",
    "\n",
    "print(\"\\n10 most negative words:\")\n",
    "for word, coef in most_negative:\n",
    "    print(f\"{word}: {coef:.4f}\")\n"
   ]
  },
  {
   "cell_type": "code",
   "execution_count": null,
   "metadata": {
    "collapsed": true,
    "id": "1Spx7v23Ye4u"
   },
   "outputs": [
    {
     "name": "stdout",
     "output_type": "stream",
     "text": [
      "Accuracy of full dictionary\n",
      "Accuracy: 0.9350\n",
      "Accuracy of limited dictionary \n",
      "Accuracy: 0.8690\n",
      "Time of evaluation for full dictionary \n",
      "CPU times: total: 219 ms\n",
      "Wall time: 213 ms\n",
      "1.02 ms ± 24.7 μs per loop (mean ± std. dev. of 7 runs, 1,000 loops each)\n",
      "Time of evaluation for limited dictionary \n",
      "CPU times: total: 188 ms\n",
      "Wall time: 205 ms\n",
      "1.26 ms ± 332 μs per loop (mean ± std. dev. of 7 runs, 1,000 loops each)\n"
     ]
    }
   ],
   "source": [
    "#c)\n",
    "#at the end we are compering models accuracies and time of evaluation\n",
    "#with more features the model can better capture nuances and subtle patterns in the text\n",
    "#leading to improved classification\n",
    "#time of evaluation is expectedly longer when a vocabulary is richer\n",
    "y_pred = model2.predict(X_test_vectors)\n",
    "accuracy2 = accuracy_score(y_test, y_pred)\n",
    "print(\"Accuracy of full dictionary\")\n",
    "print(f'Accuracy: {accuracy1:.4f}')\n",
    "print(\"Accuracy of limited dictionary \")\n",
    "print(f'Accuracy: {accuracy2:.4f}')\n",
    "#hint: %time, %timeit\n",
    "print(\"Time of evaluation for full dictionary \")\n",
    "%time model.fit(X_train_vectors, y_train)\n",
    "%timeit model.predict(X_test_vectors)\n",
    "print(\"Time of evaluation for limited dictionary \")\n",
    "%time model2.fit(X_train_vectors, y_train)\n",
    "%timeit model2.predict(X_test_vectors)\n",
    "\n",
    "\n"
   ]
  }
 ],
 "metadata": {
  "anaconda-cloud": {},
  "colab": {
   "provenance": []
  },
  "kernelspec": {
   "display_name": "base",
   "language": "python",
   "name": "python3"
  },
  "language_info": {
   "codemirror_mode": {
    "name": "ipython",
    "version": 3
   },
   "file_extension": ".py",
   "mimetype": "text/x-python",
   "name": "python",
   "nbconvert_exporter": "python",
   "pygments_lexer": "ipython3",
   "version": "3.12.4"
  }
 },
 "nbformat": 4,
 "nbformat_minor": 0
}
